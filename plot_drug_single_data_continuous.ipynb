{
 "cells": [
  {
   "cell_type": "code",
   "execution_count": null,
   "metadata": {},
   "outputs": [],
   "source": [
    "import numpy as np\n",
    "import pandas as pd\n",
    "import matplotlib.pyplot as plt\n",
    "import matplotlib\n",
    "import seaborn as sns\n",
    "import os\n",
    "from pathlib import Path\n",
    "from scipy import stats\n",
    "import scipy.io\n",
    "from statannot import add_stat_annotation\n",
    "\n",
    "font = {'family' : 'Arial',\n",
    "        'weight' : 'normal',\n",
    "        'size'   : 8}\n",
    "matplotlib.rc('font', **font)\n",
    "\n",
    "def tolerant_mean(arrs):\n",
    "    lens = [len(i) for i in arrs]\n",
    "    arr = np.ma.empty((np.max(lens),len(arrs)))\n",
    "    arr.mask = True\n",
    "    for idx, l in enumerate(arrs):\n",
    "        arr[:len(l),idx] = l\n",
    "    return arr.mean(axis = -1), arr.std(axis=-1)"
   ]
  },
  {
   "cell_type": "code",
   "execution_count": null,
   "metadata": {},
   "outputs": [],
   "source": [
    "folder = \"/path/to/folder\"\n",
    "t_list = []\n",
    "#freq_list = []\n",
    "#apd90_list = []\n",
    "#apd50_list = []\n",
    "#apd10_list = []\n",
    "trise_list = []\n",
    "file_list = []\n",
    "start_idx = None\n",
    "stop_idx = None\n",
    "for file in os.listdir(folder):\n",
    "    print('processing ',file)\n",
    "    file_list.append(file)\n",
    "    a = scipy.io.loadmat(folder+file)\n",
    "    all_data = a['AnalyzedData'][0]\n",
    "    time_raw = np.ndarray.flatten(all_data[1][1])\n",
    "    pk_loc = np.ndarray.flatten(all_data[6][1])\n",
    "    #freq = np.ndarray.flatten(all_data[10][1])\n",
    "    #apd90 = np.ndarray.flatten(all_data[12][1])\n",
    "    #apd50 = np.ndarray.flatten(all_data[13][1])\n",
    "    #apd10 = np.ndarray.flatten(all_data[14][1])\n",
    "    trise = np.ndarray.flatten(all_data[16][1])\n",
    "    time = time_raw[pk_loc][1:]\n",
    "    start_filter = np.where(time>250)\n",
    "    stop_filter = np.where(time<1450)\n",
    "    plot_idx = np.intersect1d(start_filter, stop_filter)\n",
    "    start_idx = plot_idx[0]\n",
    "    stop_idx = plot_idx[-1]\n",
    "    \n",
    "    t_list.append(time[start_idx:stop_idx])\n",
    "    #freq_list.append(freq)\n",
    "    #apd90_list.append(apd90)\n",
    "    #apd50_list.append(apd50)\n",
    "    #apd10_list.append(apd10)\n",
    "    trise_list.append(trise[start_idx:stop_idx])"
   ]
  },
  {
   "cell_type": "code",
   "execution_count": null,
   "metadata": {},
   "outputs": [],
   "source": [
    "fig, ax = plt.subplots(figsize=(2,1.6),dpi=600)\n",
    "t_list_avg = []\n",
    "for i in range(len(t_list)):\n",
    "    if len(t_list[i]) > len(t_list_avg):\n",
    "        t_list_avg = t_list[i]\n",
    "    plt.plot(t_list[i], trise_list[i], alpha=0.1, color='black', linewidth=0.6)\n",
    "ax.set_ylim((0.0, 0.05))\n",
    "ax.set_xlabel('time/s')\n",
    "ax.set_ylabel('depolarization time/s')\n",
    "#ax.set_title(folder+'n='+str(len(t_list)))\n",
    "avg_trace, err = tolerant_mean(trise_list)\n",
    "\n",
    "plt.plot(t_list_avg, avg_trace)\n",
    "plt.fill_between(t_list_avg, avg_trace-err, avg_trace+err, alpha=0.3)\n",
    "#despine\n",
    "ax.spines['top'].set_visible(False)\n",
    "ax.spines['right'].set_visible(False)\n",
    "plt.savefig(folder[:-1]+'.svg', format='svg', bbox_inches='tight')\n",
    "plt.savefig(folder[:-1]+'.png', format='png', bbox_inches='tight')"
   ]
  },
  {
   "cell_type": "code",
   "execution_count": null,
   "metadata": {
    "scrolled": false
   },
   "outputs": [],
   "source": [
    "for t in range(len(trise_list)):\n",
    "    fig, ax = plt.subplots()\n",
    "    plt.plot(trise_list[t])\n",
    "    ax.set_ylim((0,0.06))\n",
    "    ax.set_title(file_list[t])"
   ]
  }
 ],
 "metadata": {
  "kernelspec": {
   "display_name": "Python 3",
   "language": "python",
   "name": "python3"
  },
  "language_info": {
   "codemirror_mode": {
    "name": "ipython",
    "version": 3
   },
   "file_extension": ".py",
   "mimetype": "text/x-python",
   "name": "python",
   "nbconvert_exporter": "python",
   "pygments_lexer": "ipython3",
   "version": "3.8.6"
  }
 },
 "nbformat": 4,
 "nbformat_minor": 4
}
